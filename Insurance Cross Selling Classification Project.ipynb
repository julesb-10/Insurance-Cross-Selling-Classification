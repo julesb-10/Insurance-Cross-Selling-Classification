{
 "cells": [
  {
   "cell_type": "markdown",
   "id": "53de2c52-0060-4a80-8779-cfbe3364c45c",
   "metadata": {},
   "source": [
    "## Insurance Cross Selling Binary Cassification:\n",
    "Source of data: Kaggle competition, link: https://www.kaggle.com/c/playground-series-s4e7/data?select=train.csv \n",
    "\n",
    "Dataset is about an Insurance company that has provided Health Insurance to its customers, and the goal is to build a model to predict whether the policyholders (customers) from the past year will also be interested in Vehicle Insurance provided by the company. Evaluation metric used is area under ROC curve"
   ]
  },
  {
   "cell_type": "code",
   "execution_count": 1,
   "id": "264884b5-1094-4286-9f3c-1f69e39eea0f",
   "metadata": {},
   "outputs": [],
   "source": [
    "import numpy as np\n",
    "import pandas as pd\n",
    "import matplotlib.pyplot as plt\n",
    "import seaborn as sns"
   ]
  },
  {
   "cell_type": "code",
   "execution_count": 2,
   "id": "24585a3b-9e8e-45ef-a31b-a622060ff0c1",
   "metadata": {},
   "outputs": [],
   "source": [
    "train_df = pd.read_csv('/Users/julesbellosguardo/Downloads/insurance_cross_selling_train.csv')\n",
    "test_df = pd.read_csv('/Users/julesbellosguardo/Downloads/insurance_cross_selling_test.csv')"
   ]
  },
  {
   "cell_type": "code",
   "execution_count": 7,
   "id": "f8dc6e84-7918-4880-8199-46ccc488f336",
   "metadata": {},
   "outputs": [
    {
     "data": {
      "text/plain": [
       "((11504798, 12), (7669866, 11))"
      ]
     },
     "execution_count": 7,
     "metadata": {},
     "output_type": "execute_result"
    }
   ],
   "source": [
    "train_df.shape, test_df.shape"
   ]
  },
  {
   "cell_type": "code",
   "execution_count": 3,
   "id": "bc9d0ce9-be6f-40c9-be0e-6bc51cc3caff",
   "metadata": {},
   "outputs": [
    {
     "data": {
      "text/plain": [
       "((230096, 12), (153397, 11))"
      ]
     },
     "execution_count": 3,
     "metadata": {},
     "output_type": "execute_result"
    }
   ],
   "source": [
    "#Taking random sample from train dataframe to reduce training time:\n",
    "\n",
    "train_df = train_df.sample(frac=0.02)\n",
    "test_df = test_df.sample(frac = 0.02)\n",
    "train_df.shape, test_df.shape"
   ]
  },
  {
   "cell_type": "code",
   "execution_count": 9,
   "id": "cbe84344-cac4-4509-92b4-8eeeace21321",
   "metadata": {
    "scrolled": true
   },
   "outputs": [
    {
     "data": {
      "text/html": [
       "<div>\n",
       "<style scoped>\n",
       "    .dataframe tbody tr th:only-of-type {\n",
       "        vertical-align: middle;\n",
       "    }\n",
       "\n",
       "    .dataframe tbody tr th {\n",
       "        vertical-align: top;\n",
       "    }\n",
       "\n",
       "    .dataframe thead th {\n",
       "        text-align: right;\n",
       "    }\n",
       "</style>\n",
       "<table border=\"1\" class=\"dataframe\">\n",
       "  <thead>\n",
       "    <tr style=\"text-align: right;\">\n",
       "      <th></th>\n",
       "      <th>id</th>\n",
       "      <th>Gender</th>\n",
       "      <th>Age</th>\n",
       "      <th>Driving_License</th>\n",
       "      <th>Region_Code</th>\n",
       "      <th>Previously_Insured</th>\n",
       "      <th>Vehicle_Age</th>\n",
       "      <th>Vehicle_Damage</th>\n",
       "      <th>Annual_Premium</th>\n",
       "      <th>Policy_Sales_Channel</th>\n",
       "      <th>Vintage</th>\n",
       "      <th>Response</th>\n",
       "    </tr>\n",
       "  </thead>\n",
       "  <tbody>\n",
       "    <tr>\n",
       "      <th>5715763</th>\n",
       "      <td>5715763</td>\n",
       "      <td>Male</td>\n",
       "      <td>25</td>\n",
       "      <td>1</td>\n",
       "      <td>33.0</td>\n",
       "      <td>1</td>\n",
       "      <td>&lt; 1 Year</td>\n",
       "      <td>No</td>\n",
       "      <td>32411.0</td>\n",
       "      <td>152.0</td>\n",
       "      <td>98</td>\n",
       "      <td>0</td>\n",
       "    </tr>\n",
       "    <tr>\n",
       "      <th>3845030</th>\n",
       "      <td>3845030</td>\n",
       "      <td>Male</td>\n",
       "      <td>46</td>\n",
       "      <td>1</td>\n",
       "      <td>11.0</td>\n",
       "      <td>1</td>\n",
       "      <td>1-2 Year</td>\n",
       "      <td>No</td>\n",
       "      <td>29069.0</td>\n",
       "      <td>26.0</td>\n",
       "      <td>121</td>\n",
       "      <td>0</td>\n",
       "    </tr>\n",
       "    <tr>\n",
       "      <th>1022672</th>\n",
       "      <td>1022672</td>\n",
       "      <td>Female</td>\n",
       "      <td>27</td>\n",
       "      <td>1</td>\n",
       "      <td>33.0</td>\n",
       "      <td>1</td>\n",
       "      <td>&lt; 1 Year</td>\n",
       "      <td>No</td>\n",
       "      <td>33209.0</td>\n",
       "      <td>152.0</td>\n",
       "      <td>42</td>\n",
       "      <td>0</td>\n",
       "    </tr>\n",
       "    <tr>\n",
       "      <th>7061408</th>\n",
       "      <td>7061408</td>\n",
       "      <td>Male</td>\n",
       "      <td>54</td>\n",
       "      <td>1</td>\n",
       "      <td>46.0</td>\n",
       "      <td>1</td>\n",
       "      <td>1-2 Year</td>\n",
       "      <td>No</td>\n",
       "      <td>24336.0</td>\n",
       "      <td>26.0</td>\n",
       "      <td>263</td>\n",
       "      <td>0</td>\n",
       "    </tr>\n",
       "    <tr>\n",
       "      <th>10154058</th>\n",
       "      <td>10154058</td>\n",
       "      <td>Male</td>\n",
       "      <td>44</td>\n",
       "      <td>1</td>\n",
       "      <td>28.0</td>\n",
       "      <td>0</td>\n",
       "      <td>1-2 Year</td>\n",
       "      <td>Yes</td>\n",
       "      <td>30204.0</td>\n",
       "      <td>124.0</td>\n",
       "      <td>216</td>\n",
       "      <td>0</td>\n",
       "    </tr>\n",
       "  </tbody>\n",
       "</table>\n",
       "</div>"
      ],
      "text/plain": [
       "                id  Gender  Age  Driving_License  Region_Code  \\\n",
       "5715763    5715763    Male   25                1         33.0   \n",
       "3845030    3845030    Male   46                1         11.0   \n",
       "1022672    1022672  Female   27                1         33.0   \n",
       "7061408    7061408    Male   54                1         46.0   \n",
       "10154058  10154058    Male   44                1         28.0   \n",
       "\n",
       "          Previously_Insured Vehicle_Age Vehicle_Damage  Annual_Premium  \\\n",
       "5715763                    1    < 1 Year             No         32411.0   \n",
       "3845030                    1    1-2 Year             No         29069.0   \n",
       "1022672                    1    < 1 Year             No         33209.0   \n",
       "7061408                    1    1-2 Year             No         24336.0   \n",
       "10154058                   0    1-2 Year            Yes         30204.0   \n",
       "\n",
       "          Policy_Sales_Channel  Vintage  Response  \n",
       "5715763                  152.0       98         0  \n",
       "3845030                   26.0      121         0  \n",
       "1022672                  152.0       42         0  \n",
       "7061408                   26.0      263         0  \n",
       "10154058                 124.0      216         0  "
      ]
     },
     "execution_count": 9,
     "metadata": {},
     "output_type": "execute_result"
    }
   ],
   "source": [
    "train_df.head()"
   ]
  },
  {
   "cell_type": "code",
   "execution_count": 8,
   "id": "fc3de8a6-3832-4f81-b0aa-38f12ddb16f8",
   "metadata": {},
   "outputs": [
    {
     "name": "stdout",
     "output_type": "stream",
     "text": [
      "<class 'pandas.core.frame.DataFrame'>\n",
      "Index: 230096 entries, 10244568 to 3270892\n",
      "Data columns (total 12 columns):\n",
      " #   Column                Non-Null Count   Dtype  \n",
      "---  ------                --------------   -----  \n",
      " 0   id                    230096 non-null  int64  \n",
      " 1   Gender                230096 non-null  object \n",
      " 2   Age                   230096 non-null  int64  \n",
      " 3   Driving_License       230096 non-null  int64  \n",
      " 4   Region_Code           230096 non-null  float64\n",
      " 5   Previously_Insured    230096 non-null  int64  \n",
      " 6   Vehicle_Age           230096 non-null  object \n",
      " 7   Vehicle_Damage        230096 non-null  object \n",
      " 8   Annual_Premium        230096 non-null  float64\n",
      " 9   Policy_Sales_Channel  230096 non-null  float64\n",
      " 10  Vintage               230096 non-null  int64  \n",
      " 11  Response              230096 non-null  int64  \n",
      "dtypes: float64(3), int64(6), object(3)\n",
      "memory usage: 22.8+ MB\n"
     ]
    }
   ],
   "source": [
    "train_df.info()"
   ]
  },
  {
   "cell_type": "code",
   "execution_count": 4,
   "id": "e1197883-f6fb-46a6-9eb7-6c64cb1b8e81",
   "metadata": {},
   "outputs": [],
   "source": [
    "#Starting by dropping id column as it is of no use:\n",
    "train_df = train_df.drop('id', axis=1)\n"
   ]
  },
  {
   "cell_type": "code",
   "execution_count": 12,
   "id": "8327d080-6231-4974-a9c4-edfbac0f0d0a",
   "metadata": {},
   "outputs": [
    {
     "data": {
      "text/plain": [
       "Gender                  0\n",
       "Age                     0\n",
       "Driving_License         0\n",
       "Region_Code             0\n",
       "Previously_Insured      0\n",
       "Vehicle_Age             0\n",
       "Vehicle_Damage          0\n",
       "Annual_Premium          0\n",
       "Policy_Sales_Channel    0\n",
       "Vintage                 0\n",
       "Response                0\n",
       "dtype: int64"
      ]
     },
     "execution_count": 12,
     "metadata": {},
     "output_type": "execute_result"
    }
   ],
   "source": [
    "#Checking for missing values:\n",
    "train_df.isnull().sum()"
   ]
  },
  {
   "cell_type": "code",
   "execution_count": 14,
   "id": "56060e35-7794-4e26-a50b-e5e868fc1ba9",
   "metadata": {},
   "outputs": [
    {
     "data": {
      "text/plain": [
       "<Axes: xlabel='Response', ylabel='count'>"
      ]
     },
     "execution_count": 14,
     "metadata": {},
     "output_type": "execute_result"
    },
    {
     "data": {
      "image/png": "[encoded data removed]",
      "text/plain": [
       "<Figure size 640x480 with 1 Axes>"
      ]
     },
     "metadata": {},
     "output_type": "display_data"
    }
   ],
   "source": [
    "#Checking balance of target variable (Response):\n",
    "\n",
    "sns.countplot(data = train_df, x = 'Response', hue = 'Response')"
   ]
  },
  {
   "cell_type": "code",
   "execution_count": 7,
   "id": "b3352ad4",
   "metadata": {},
   "outputs": [
    {
     "data": {
      "text/plain": [
       "0.122"
      ]
     },
     "execution_count": 7,
     "metadata": {},
     "output_type": "execute_result"
    }
   ],
   "source": [
    "#Proportion of minority class:\n",
    "round(len(train_df[train_df['Response'] == 1])/len(train_df), 3)"
   ]
  },
  {
   "cell_type": "markdown",
   "id": "f5d3e955-4868-4249-840e-ebe5d5dc3fcf",
   "metadata": {},
   "source": [
    "#### Our target variable is highly unbalanced here, will balance it out later on"
   ]
  },
  {
   "cell_type": "markdown",
   "id": "c3f3f427-d8aa-49ba-9f9c-fb0fb7398b3d",
   "metadata": {},
   "source": [
    "# EDA:"
   ]
  },
  {
   "cell_type": "code",
   "execution_count": 20,
   "id": "2ec00e38-e101-45d8-891e-331ab113f688",
   "metadata": {},
   "outputs": [
    {
     "data": {
      "text/plain": [
       "Previously_Insured     -0.346004\n",
       "Policy_Sales_Channel   -0.152505\n",
       "Vintage                -0.016245\n",
       "Driving_License         0.008847\n",
       "Region_Code             0.015714\n",
       "Annual_Premium          0.030964\n",
       "Age                     0.121099\n",
       "Name: Response, dtype: float64"
      ]
     },
     "execution_count": 20,
     "metadata": {},
     "output_type": "execute_result"
    }
   ],
   "source": [
    "train_df.corr(numeric_only=True)['Response'].sort_values()[:-1]"
   ]
  },
  {
   "cell_type": "code",
   "execution_count": 23,
   "id": "20dc6f24-ea77-4221-acbe-9904bd200375",
   "metadata": {},
   "outputs": [
    {
     "data": {
      "image/png": "[encoded data removed]",
      "text/plain": [
       "<Figure size 1000x500 with 1 Axes>"
      ]
     },
     "metadata": {},
     "output_type": "display_data"
    }
   ],
   "source": [
    "#Looking at feature correlations with target variable:\n",
    "\n",
    "\n",
    "plt.figure(figsize=(10,5))\n",
    "sns.barplot(train_df.corr(numeric_only=True)['Response'].sort_values()[:-1])\n",
    "plt.tick_params(axis = 'x', labelrotation = 30)"
   ]
  },
  {
   "cell_type": "code",
   "execution_count": 27,
   "id": "c5a678ef-7ea8-4893-ac44-90e275fa613d",
   "metadata": {},
   "outputs": [
    {
     "data": {
      "text/plain": [
       "<Axes: xlabel='Response', ylabel='count'>"
      ]
     },
     "execution_count": 27,
     "metadata": {},
     "output_type": "execute_result"
    },
    {
     "data": {
      "image/png": "[encoded data removed]",
      "text/plain": [
       "<Figure size 640x480 with 1 Axes>"
      ]
     },
     "metadata": {},
     "output_type": "display_data"
    }
   ],
   "source": [
    "#Looking at customers who responded based off if they were previously insured\n",
    "sns.countplot(data = train_df, x = 'Response', hue = 'Previously_Insured')"
   ]
  },
  {
   "cell_type": "code",
   "execution_count": 28,
   "id": "fc8d974f-ab25-4e33-9bfe-94ee31ddaf1e",
   "metadata": {},
   "outputs": [
    {
     "data": {
      "text/plain": [
       "count    230096.000000\n",
       "mean      30471.919973\n",
       "std       16504.476792\n",
       "min        2630.000000\n",
       "25%       25278.000000\n",
       "50%       31847.000000\n",
       "75%       39470.250000\n",
       "max      540165.000000\n",
       "Name: Annual_Premium, dtype: float64"
      ]
     },
     "execution_count": 28,
     "metadata": {},
     "output_type": "execute_result"
    }
   ],
   "source": [
    "train_df.Annual_Premium.describe()"
   ]
  },
  {
   "cell_type": "code",
   "execution_count": 30,
   "id": "69e33e68-6b9d-4260-b740-f0fa4456a60d",
   "metadata": {},
   "outputs": [
    {
     "data": {
      "text/plain": [
       "<Axes: xlabel='Annual_Premium', ylabel='Count'>"
      ]
     },
     "execution_count": 30,
     "metadata": {},
     "output_type": "execute_result"
    },
    {
     "data": {
      "image/png": "[encoded data removed]",
      "text/plain": [
       "<Figure size 640x480 with 1 Axes>"
      ]
     },
     "metadata": {},
     "output_type": "display_data"
    }
   ],
   "source": [
    "#Distribution of annual premiums:\n",
    "\n",
    "sns.histplot(data = train_df, x = 'Annual_Premium')\n"
   ]
  },
  {
   "cell_type": "code",
   "execution_count": 28,
   "id": "d99ccefc-4524-4cb6-860b-7301796da953",
   "metadata": {},
   "outputs": [
    {
     "data": {
      "text/plain": [
       "(0.0, 10000.0)"
      ]
     },
     "execution_count": 28,
     "metadata": {},
     "output_type": "execute_result"
    },
    {
     "data": {
      "image/png": "[encoded data removed]",
      "text/plain": [
       "<Figure size 1200x600 with 2 Axes>"
      ]
     },
     "metadata": {},
     "output_type": "display_data"
    }
   ],
   "source": [
    "#We'll plot the premiums by range of values as there seem to be 2 dense areas:\n",
    "\n",
    "f, axes = plt.subplots(1, 2, figsize = (12,6))\n",
    "sns.histplot(data = train_df, x = 'Annual_Premium', ax = axes[0])\n",
    "plt.xlim((0, 15000))\n",
    "plt.ylim((0,10000))\n",
    "\n",
    "sns.histplot(data = train_df, x = 'Annual_Premium', ax = axes[1])\n",
    "plt.xlim((17000, 100000))\n",
    "plt.ylim((0,10000))\n"
   ]
  },
  {
   "cell_type": "code",
   "execution_count": 30,
   "id": "2ebf1cd9",
   "metadata": {},
   "outputs": [
    {
     "data": {
      "text/plain": [
       "42430"
      ]
     },
     "execution_count": 30,
     "metadata": {},
     "output_type": "execute_result"
    }
   ],
   "source": [
    "len(train_df[train_df['Annual_Premium'] == 2630])"
   ]
  },
  {
   "cell_type": "code",
   "execution_count": 32,
   "id": "273b691b-f929-4096-810a-35ca9739dedf",
   "metadata": {},
   "outputs": [
    {
     "data": {
      "text/plain": [
       "(0.0, 100000.0)"
      ]
     },
     "execution_count": 32,
     "metadata": {},
     "output_type": "execute_result"
    },
    {
     "data": {
      "image/png": "[encoded data removed]",
      "text/plain": [
       "<Figure size 1200x500 with 1 Axes>"
      ]
     },
     "metadata": {},
     "output_type": "display_data"
    }
   ],
   "source": [
    "plt.figure(figsize=(12,5))\n",
    "sns.boxplot(data = train_df, x = 'Annual_Premium', hue = 'Response')\n",
    "plt.xlim((0,100000))"
   ]
  },
  {
   "cell_type": "code",
   "execution_count": 9,
   "id": "73604c40-cee7-4bf0-81e6-51d5c097d145",
   "metadata": {},
   "outputs": [
    {
     "data": {
      "text/plain": [
       "(0.0, 100000.0)"
      ]
     },
     "execution_count": 9,
     "metadata": {},
     "output_type": "execute_result"
    },
    {
     "data": {
      "image/png": "[encoded data removed]",
      "text/plain": [
       "<Figure size 1200x500 with 1 Axes>"
      ]
     },
     "metadata": {},
     "output_type": "display_data"
    }
   ],
   "source": [
    "#Taking extreme outliers out of visual:\n",
    "plt.figure(figsize=(12,5))\n",
    "sns.boxplot(data = train_df, x = 'Annual_Premium', hue = 'Response')\n",
    "plt.xlim((0,100000))"
   ]
  },
  {
   "cell_type": "code",
   "execution_count": 11,
   "id": "ed4726de-caed-4c4a-8b36-7eab5d1e207b",
   "metadata": {},
   "outputs": [
    {
     "data": {
      "text/plain": [
       "Driving_License\n",
       "1    229616\n",
       "0       480\n",
       "Name: count, dtype: int64"
      ]
     },
     "execution_count": 11,
     "metadata": {},
     "output_type": "execute_result"
    }
   ],
   "source": [
    "train_df.Driving_License.value_counts()"
   ]
  },
  {
   "cell_type": "code",
   "execution_count": 12,
   "id": "0ef59885-ec2b-4ed2-8a15-9db239886915",
   "metadata": {},
   "outputs": [
    {
     "data": {
      "text/plain": [
       "<Axes: xlabel='Driving_License', ylabel='count'>"
      ]
     },
     "execution_count": 12,
     "metadata": {},
     "output_type": "execute_result"
    },
    {
     "data": {
      "image/png": "[encoded data removed]",
      "text/plain": [
       "<Figure size 640x480 with 1 Axes>"
      ]
     },
     "metadata": {},
     "output_type": "display_data"
    }
   ],
   "source": [
    "sns.countplot(data = train_df, x = 'Driving_License', hue = 'Response')"
   ]
  },
  {
   "cell_type": "markdown",
   "id": "4e8f7e6b-a276-478e-ad69-8c154ea2099b",
   "metadata": {},
   "source": [
    "Countplot supports obvious fact that nobody without a drivers license responded, or was contacted "
   ]
  },
  {
   "cell_type": "code",
   "execution_count": 5,
   "id": "b80c829f-32ce-4a33-93c8-569ec61434ea",
   "metadata": {},
   "outputs": [
    {
     "data": {
      "text/plain": [
       "<Axes: xlabel='Response', ylabel='count'>"
      ]
     },
     "execution_count": 5,
     "metadata": {},
     "output_type": "execute_result"
    },
    {
     "data": {
      "image/png": "[encoded data removed]",
      "text/plain": [
       "<Figure size 640x480 with 1 Axes>"
      ]
     },
     "metadata": {},
     "output_type": "display_data"
    }
   ],
   "source": [
    "sns.countplot(data=train_df, x = 'Response', hue = 'Gender', palette = 'plasma')"
   ]
  },
  {
   "cell_type": "code",
   "execution_count": 23,
   "id": "c8d1f35c-bf1f-4a36-92ee-2194f4db8b77",
   "metadata": {},
   "outputs": [
    {
     "data": {
      "text/plain": [
       "<Axes: xlabel='Age', ylabel='Count'>"
      ]
     },
     "execution_count": 23,
     "metadata": {},
     "output_type": "execute_result"
    },
    {
     "data": {
      "image/png": "[encoded data removed]",
      "text/plain": [
       "<Figure size 1000x500 with 1 Axes>"
      ]
     },
     "metadata": {},
     "output_type": "display_data"
    }
   ],
   "source": [
    "#Looking at general distribution of client ages:\n",
    "plt.figure(figsize=(10,5))\n",
    "sns.histplot(data=train_df, x = 'Age')"
   ]
  },
  {
   "cell_type": "code",
   "execution_count": 9,
   "id": "733fe1c2-427a-40d3-9779-ec2740fec604",
   "metadata": {},
   "outputs": [
    {
     "name": "stdout",
     "output_type": "stream",
     "text": [
      "Mean age of clients who responded: 43.34\n",
      "Mean age of clients who didn't respond: 37.7\n"
     ]
    }
   ],
   "source": [
    "#Mean age of those who responded and those who didn't:\n",
    "\n",
    "responded_mean_age = train_df[train_df['Response'] == 1]['Age'].mean()\n",
    "no_response_mean_age = train_df[train_df['Response'] == 0]['Age'].mean()\n",
    "\n",
    "print(f'Mean age of clients who responded: {round(responded_mean_age, 2)}')\n",
    "print(f'Mean age of clients who didn\\'t respond: {round(no_response_mean_age, 2)}')"
   ]
  },
  {
   "cell_type": "code",
   "execution_count": 34,
   "id": "31440ee2-c481-4c5f-b317-fc5fc2e5d90c",
   "metadata": {},
   "outputs": [
    {
     "name": "stdout",
     "output_type": "stream",
     "text": [
      "Variation in age of clients who responded: 11.41\n",
      "Variation in age of clients who didn't respond: 15.3\n"
     ]
    }
   ],
   "source": [
    "responded_age_std = train_df[train_df['Response'] == 1]['Age'].std()\n",
    "no_response_age_std = train_df[train_df['Response'] == 0]['Age'].std()\n",
    "\n",
    "print(f'Variation in age of clients who responded: {round(responded_age_std, 2)}')\n",
    "print(f'Variation in age of clients who didn\\'t respond: {round(no_response_age_std, 2)}')"
   ]
  },
  {
   "cell_type": "markdown",
   "id": "6f0ddab5",
   "metadata": {},
   "source": [
    "Response age is older on average and could be for several reasons (decreased taste for risk, more money to afford insurance, etc.)"
   ]
  },
  {
   "cell_type": "code",
   "execution_count": 25,
   "id": "1c840471-a54f-4f74-aa62-95c27886573a",
   "metadata": {
    "scrolled": true
   },
   "outputs": [
    {
     "data": {
      "text/plain": [
       "Region_Code\n",
       "28.0    69364\n",
       "8.0     20574\n",
       "46.0    11534\n",
       "41.0    11088\n",
       "15.0     8047\n",
       "30.0     7402\n",
       "29.0     6720\n",
       "50.0     6052\n",
       "11.0     5603\n",
       "36.0     5237\n",
       "3.0      4972\n",
       "33.0     4580\n",
       "47.0     4559\n",
       "35.0     3966\n",
       "6.0      3629\n",
       "45.0     3087\n",
       "37.0     3081\n",
       "18.0     2964\n",
       "39.0     2786\n",
       "14.0     2760\n",
       "21.0     2503\n",
       "10.0     2486\n",
       "2.0      2422\n",
       "48.0     2222\n",
       "13.0     2086\n",
       "7.0      1895\n",
       "9.0      1865\n",
       "12.0     1792\n",
       "27.0     1571\n",
       "43.0     1562\n",
       "32.0     1529\n",
       "17.0     1498\n",
       "26.0     1467\n",
       "24.0     1426\n",
       "25.0     1423\n",
       "0.0      1209\n",
       "20.0     1166\n",
       "38.0     1166\n",
       "23.0     1125\n",
       "31.0     1087\n",
       "4.0      1067\n",
       "16.0     1067\n",
       "49.0     1020\n",
       "34.0      987\n",
       "19.0      909\n",
       "1.0       706\n",
       "22.0      704\n",
       "5.0       696\n",
       "40.0      668\n",
       "44.0      399\n",
       "42.0      262\n",
       "52.0       69\n",
       "51.0       37\n",
       "Name: count, dtype: int64"
      ]
     },
     "execution_count": 25,
     "metadata": {},
     "output_type": "execute_result"
    }
   ],
   "source": [
    "train_df[\"Region_Code\"].value_counts()"
   ]
  },
  {
   "cell_type": "code",
   "execution_count": 35,
   "id": "856e9ca2-faee-473a-9613-500f74aa9d52",
   "metadata": {},
   "outputs": [
    {
     "data": {
      "text/plain": [
       "<Axes: xlabel='Vehicle_Damage', ylabel='count'>"
      ]
     },
     "execution_count": 35,
     "metadata": {},
     "output_type": "execute_result"
    },
    {
     "data": {
      "image/png": "[encoded data removed]",
      "text/plain": [
       "<Figure size 640x480 with 1 Axes>"
      ]
     },
     "metadata": {},
     "output_type": "display_data"
    }
   ],
   "source": [
    "sns.countplot(data = train_df, x = 'Vehicle_Damage', hue = 'Response')"
   ]
  },
  {
   "cell_type": "code",
   "execution_count": 11,
   "id": "9a8bd4d5-aa79-49e2-961c-38c92d3aab68",
   "metadata": {},
   "outputs": [
    {
     "name": "stdout",
     "output_type": "stream",
     "text": [
      "Percentage of those who have vehicle damage that responded: 24.15%\n",
      "Percentage of those without vehicle damage that responded: 0.42%\n"
     ]
    }
   ],
   "source": [
    "#Rates of response are clearly higher for those with vehicle damage, let's get an exact percentage:\n",
    "response_rate_veh_dmg = len(train_df[(train_df['Vehicle_Damage'] == 'Yes') & (train_df['Response'] == 1)]) / len(train_df[(train_df['Vehicle_Damage'] == 'Yes')])\n",
    "\n",
    "response_rate_no_veh_dmg = len(train_df[(train_df['Vehicle_Damage'] == 'No') & (train_df['Response'] == 1)]) / len(train_df[(train_df['Vehicle_Damage'] == 'No')])\n",
    "\n",
    "print(f'Percentage of those who have vehicle damage that responded: {round(response_rate_veh_dmg * 100, 2)}%')\n",
    "print(f'Percentage of those without vehicle damage that responded: {round(response_rate_no_veh_dmg * 100, 2)}%')"
   ]
  },
  {
   "cell_type": "markdown",
   "id": "7c30080b-4d2e-4817-9963-e7f7a6d79bd1",
   "metadata": {},
   "source": [
    "Very significant difference in response rates between those with and without vehicle damage"
   ]
  },
  {
   "cell_type": "code",
   "execution_count": 42,
   "id": "13dfe556-812c-46b9-9648-9aa7dc41de7f",
   "metadata": {},
   "outputs": [
    {
     "data": {
      "text/html": [
       "<div>\n",
       "<style scoped>\n",
       "    .dataframe tbody tr th:only-of-type {\n",
       "        vertical-align: middle;\n",
       "    }\n",
       "\n",
       "    .dataframe tbody tr th {\n",
       "        vertical-align: top;\n",
       "    }\n",
       "\n",
       "    .dataframe thead th {\n",
       "        text-align: right;\n",
       "    }\n",
       "</style>\n",
       "<table border=\"1\" class=\"dataframe\">\n",
       "  <thead>\n",
       "    <tr style=\"text-align: right;\">\n",
       "      <th></th>\n",
       "      <th>Gender</th>\n",
       "      <th>Age</th>\n",
       "      <th>Driving_License</th>\n",
       "      <th>Region_Code</th>\n",
       "      <th>Previously_Insured</th>\n",
       "      <th>Vehicle_Age</th>\n",
       "      <th>Vehicle_Damage</th>\n",
       "      <th>Annual_Premium</th>\n",
       "      <th>Policy_Sales_Channel</th>\n",
       "      <th>Vintage</th>\n",
       "      <th>Response</th>\n",
       "    </tr>\n",
       "  </thead>\n",
       "  <tbody>\n",
       "    <tr>\n",
       "      <th>1144249</th>\n",
       "      <td>Female</td>\n",
       "      <td>23</td>\n",
       "      <td>1</td>\n",
       "      <td>23.0</td>\n",
       "      <td>1</td>\n",
       "      <td>&lt; 1 Year</td>\n",
       "      <td>No</td>\n",
       "      <td>33877.0</td>\n",
       "      <td>152.0</td>\n",
       "      <td>50</td>\n",
       "      <td>0</td>\n",
       "    </tr>\n",
       "    <tr>\n",
       "      <th>1527971</th>\n",
       "      <td>Male</td>\n",
       "      <td>36</td>\n",
       "      <td>1</td>\n",
       "      <td>11.0</td>\n",
       "      <td>0</td>\n",
       "      <td>1-2 Year</td>\n",
       "      <td>Yes</td>\n",
       "      <td>28312.0</td>\n",
       "      <td>124.0</td>\n",
       "      <td>259</td>\n",
       "      <td>1</td>\n",
       "    </tr>\n",
       "    <tr>\n",
       "      <th>9158120</th>\n",
       "      <td>Female</td>\n",
       "      <td>23</td>\n",
       "      <td>1</td>\n",
       "      <td>29.0</td>\n",
       "      <td>1</td>\n",
       "      <td>&lt; 1 Year</td>\n",
       "      <td>No</td>\n",
       "      <td>33877.0</td>\n",
       "      <td>152.0</td>\n",
       "      <td>55</td>\n",
       "      <td>0</td>\n",
       "    </tr>\n",
       "    <tr>\n",
       "      <th>4654728</th>\n",
       "      <td>Male</td>\n",
       "      <td>40</td>\n",
       "      <td>1</td>\n",
       "      <td>31.0</td>\n",
       "      <td>0</td>\n",
       "      <td>1-2 Year</td>\n",
       "      <td>Yes</td>\n",
       "      <td>2630.0</td>\n",
       "      <td>148.0</td>\n",
       "      <td>266</td>\n",
       "      <td>1</td>\n",
       "    </tr>\n",
       "    <tr>\n",
       "      <th>7832682</th>\n",
       "      <td>Female</td>\n",
       "      <td>23</td>\n",
       "      <td>1</td>\n",
       "      <td>13.0</td>\n",
       "      <td>1</td>\n",
       "      <td>&lt; 1 Year</td>\n",
       "      <td>No</td>\n",
       "      <td>28743.0</td>\n",
       "      <td>151.0</td>\n",
       "      <td>273</td>\n",
       "      <td>0</td>\n",
       "    </tr>\n",
       "  </tbody>\n",
       "</table>\n",
       "</div>"
      ],
      "text/plain": [
       "         Gender  Age  Driving_License  Region_Code  Previously_Insured  \\\n",
       "1144249  Female   23                1         23.0                   1   \n",
       "1527971    Male   36                1         11.0                   0   \n",
       "9158120  Female   23                1         29.0                   1   \n",
       "4654728    Male   40                1         31.0                   0   \n",
       "7832682  Female   23                1         13.0                   1   \n",
       "\n",
       "        Vehicle_Age Vehicle_Damage  Annual_Premium  Policy_Sales_Channel  \\\n",
       "1144249    < 1 Year             No         33877.0                 152.0   \n",
       "1527971    1-2 Year            Yes         28312.0                 124.0   \n",
       "9158120    < 1 Year             No         33877.0                 152.0   \n",
       "4654728    1-2 Year            Yes          2630.0                 148.0   \n",
       "7832682    < 1 Year             No         28743.0                 151.0   \n",
       "\n",
       "         Vintage  Response  \n",
       "1144249       50         0  \n",
       "1527971      259         1  \n",
       "9158120       55         0  \n",
       "4654728      266         1  \n",
       "7832682      273         0  "
      ]
     },
     "execution_count": 42,
     "metadata": {},
     "output_type": "execute_result"
    }
   ],
   "source": [
    "train_df.head()"
   ]
  },
  {
   "cell_type": "code",
   "execution_count": 43,
   "id": "306e3e0b-4960-4dee-b55b-3cfd770c8eee",
   "metadata": {},
   "outputs": [
    {
     "data": {
      "text/plain": [
       "<Axes: xlabel='Response', ylabel='count'>"
      ]
     },
     "execution_count": 43,
     "metadata": {},
     "output_type": "execute_result"
    },
    {
     "data": {
      "image/png": "[encoded data removed]",
      "text/plain": [
       "<Figure size 640x480 with 1 Axes>"
      ]
     },
     "metadata": {},
     "output_type": "display_data"
    }
   ],
   "source": [
    "sns.countplot(data = train_df, x = 'Response', hue = 'Previously_Insured')"
   ]
  },
  {
   "cell_type": "markdown",
   "id": "7dcec668-efc5-487c-bd2a-241b1472ce4e",
   "metadata": {},
   "source": [
    "Just about all of those who responded weren't previously insured by the company "
   ]
  },
  {
   "cell_type": "code",
   "execution_count": 44,
   "id": "90490d71-c18b-47f1-b562-0e7ae4df008e",
   "metadata": {},
   "outputs": [
    {
     "data": {
      "text/plain": [
       "Vehicle_Age\n",
       "1-2 Year     119778\n",
       "< 1 Year     100975\n",
       "> 2 Years      9343\n",
       "Name: count, dtype: int64"
      ]
     },
     "execution_count": 44,
     "metadata": {},
     "output_type": "execute_result"
    }
   ],
   "source": [
    "train_df['Vehicle_Age'].value_counts()"
   ]
  },
  {
   "cell_type": "code",
   "execution_count": 45,
   "id": "cdae3296-a99d-4068-b58f-fa242f7bef2e",
   "metadata": {},
   "outputs": [
    {
     "data": {
      "text/plain": [
       "<Axes: xlabel='Vehicle_Age', ylabel='count'>"
      ]
     },
     "execution_count": 45,
     "metadata": {},
     "output_type": "execute_result"
    },
    {
     "data": {
      "image/png": "[encoded data removed]",
      "text/plain": [
       "<Figure size 640x480 with 1 Axes>"
      ]
     },
     "metadata": {},
     "output_type": "display_data"
    }
   ],
   "source": [
    "sns.countplot(data = train_df, x = 'Vehicle_Age', hue = 'Response')"
   ]
  },
  {
   "cell_type": "code",
   "execution_count": 5,
   "id": "34e55062-3d74-46ba-b702-ed4a359eba3d",
   "metadata": {},
   "outputs": [
    {
     "name": "stdout",
     "output_type": "stream",
     "text": [
      "Percentage response for those with vehicles 2 years or older: 30.06%\n",
      "Percentage response for those with vehicles between 1 and 2 years old: 17.95%\n",
      "Percentage response for those with vehicles less than 1 year old: 4.05%\n"
     ]
    }
   ],
   "source": [
    "#Rates of response seem to increase as vehicle age does, let us see concrete numbers:\n",
    "\n",
    "more_2_yrs_rate = len(train_df[(train_df['Vehicle_Age'] == '> 2 Years') & (train_df['Response'] == 1)]) / len(train_df[train_df['Vehicle_Age'] == '> 2 Years'])\n",
    "one_to_two_yrs_rate = len(train_df[(train_df['Vehicle_Age'] == '1-2 Year') & (train_df['Response'] == 1)]) / len(train_df[train_df['Vehicle_Age'] == '1-2 Year'])\n",
    "less_one_yr_rate = len(train_df[(train_df['Vehicle_Age'] == '< 1 Year') & (train_df['Response'] == 1)]) / len(train_df[train_df['Vehicle_Age'] == '< 1 Year'])\n",
    "\n",
    "print(f'Percentage response for those with vehicles 2 years or older: {round(more_2_yrs_rate*100, 2)}%')\n",
    "print(f'Percentage response for those with vehicles between 1 and 2 years old: {round(one_to_two_yrs_rate*100, 2)}%')\n",
    "print(f'Percentage response for those with vehicles less than 1 year old: {round(less_one_yr_rate*100, 2)}%')\n"
   ]
  },
  {
   "cell_type": "markdown",
   "id": "bb74ab0b-a3f1-4304-aa7e-aad1197b7e7f",
   "metadata": {},
   "source": [
    "### Feature engineering / Conversion to numerical:"
   ]
  },
  {
   "cell_type": "code",
   "execution_count": 5,
   "id": "015b64cd-430d-49d2-9fec-64cfb4ddc203",
   "metadata": {},
   "outputs": [
    {
     "data": {
      "text/html": [
       "<div>\n",
       "<style scoped>\n",
       "    .dataframe tbody tr th:only-of-type {\n",
       "        vertical-align: middle;\n",
       "    }\n",
       "\n",
       "    .dataframe tbody tr th {\n",
       "        vertical-align: top;\n",
       "    }\n",
       "\n",
       "    .dataframe thead th {\n",
       "        text-align: right;\n",
       "    }\n",
       "</style>\n",
       "<table border=\"1\" class=\"dataframe\">\n",
       "  <thead>\n",
       "    <tr style=\"text-align: right;\">\n",
       "      <th></th>\n",
       "      <th>Gender</th>\n",
       "      <th>Age</th>\n",
       "      <th>Driving_License</th>\n",
       "      <th>Region_Code</th>\n",
       "      <th>Previously_Insured</th>\n",
       "      <th>Vehicle_Age</th>\n",
       "      <th>Vehicle_Damage</th>\n",
       "      <th>Annual_Premium</th>\n",
       "      <th>Policy_Sales_Channel</th>\n",
       "      <th>Vintage</th>\n",
       "      <th>Response</th>\n",
       "    </tr>\n",
       "  </thead>\n",
       "  <tbody>\n",
       "    <tr>\n",
       "      <th>3222483</th>\n",
       "      <td>Female</td>\n",
       "      <td>24</td>\n",
       "      <td>1</td>\n",
       "      <td>41.0</td>\n",
       "      <td>0</td>\n",
       "      <td>&lt; 1 Year</td>\n",
       "      <td>No</td>\n",
       "      <td>67748.0</td>\n",
       "      <td>124.0</td>\n",
       "      <td>152</td>\n",
       "      <td>0</td>\n",
       "    </tr>\n",
       "    <tr>\n",
       "      <th>8199498</th>\n",
       "      <td>Male</td>\n",
       "      <td>45</td>\n",
       "      <td>1</td>\n",
       "      <td>28.0</td>\n",
       "      <td>0</td>\n",
       "      <td>&gt; 2 Years</td>\n",
       "      <td>Yes</td>\n",
       "      <td>29130.0</td>\n",
       "      <td>122.0</td>\n",
       "      <td>90</td>\n",
       "      <td>0</td>\n",
       "    </tr>\n",
       "    <tr>\n",
       "      <th>8002563</th>\n",
       "      <td>Female</td>\n",
       "      <td>22</td>\n",
       "      <td>1</td>\n",
       "      <td>2.0</td>\n",
       "      <td>0</td>\n",
       "      <td>&lt; 1 Year</td>\n",
       "      <td>No</td>\n",
       "      <td>2630.0</td>\n",
       "      <td>26.0</td>\n",
       "      <td>34</td>\n",
       "      <td>0</td>\n",
       "    </tr>\n",
       "    <tr>\n",
       "      <th>8536998</th>\n",
       "      <td>Female</td>\n",
       "      <td>28</td>\n",
       "      <td>1</td>\n",
       "      <td>34.0</td>\n",
       "      <td>1</td>\n",
       "      <td>&lt; 1 Year</td>\n",
       "      <td>No</td>\n",
       "      <td>28255.0</td>\n",
       "      <td>152.0</td>\n",
       "      <td>117</td>\n",
       "      <td>0</td>\n",
       "    </tr>\n",
       "    <tr>\n",
       "      <th>6924338</th>\n",
       "      <td>Female</td>\n",
       "      <td>25</td>\n",
       "      <td>1</td>\n",
       "      <td>33.0</td>\n",
       "      <td>1</td>\n",
       "      <td>&lt; 1 Year</td>\n",
       "      <td>No</td>\n",
       "      <td>37388.0</td>\n",
       "      <td>152.0</td>\n",
       "      <td>232</td>\n",
       "      <td>0</td>\n",
       "    </tr>\n",
       "  </tbody>\n",
       "</table>\n",
       "</div>"
      ],
      "text/plain": [
       "         Gender  Age  Driving_License  Region_Code  Previously_Insured  \\\n",
       "3222483  Female   24                1         41.0                   0   \n",
       "8199498    Male   45                1         28.0                   0   \n",
       "8002563  Female   22                1          2.0                   0   \n",
       "8536998  Female   28                1         34.0                   1   \n",
       "6924338  Female   25                1         33.0                   1   \n",
       "\n",
       "        Vehicle_Age Vehicle_Damage  Annual_Premium  Policy_Sales_Channel  \\\n",
       "3222483    < 1 Year             No         67748.0                 124.0   \n",
       "8199498   > 2 Years            Yes         29130.0                 122.0   \n",
       "8002563    < 1 Year             No          2630.0                  26.0   \n",
       "8536998    < 1 Year             No         28255.0                 152.0   \n",
       "6924338    < 1 Year             No         37388.0                 152.0   \n",
       "\n",
       "         Vintage  Response  \n",
       "3222483      152         0  \n",
       "8199498       90         0  \n",
       "8002563       34         0  \n",
       "8536998      117         0  \n",
       "6924338      232         0  "
      ]
     },
     "execution_count": 5,
     "metadata": {},
     "output_type": "execute_result"
    }
   ],
   "source": [
    "train_df.head()"
   ]
  },
  {
   "cell_type": "code",
   "execution_count": 4,
   "id": "77d68ac2-c82b-49da-8e12-42f265ebb3c6",
   "metadata": {},
   "outputs": [],
   "source": [
    "def gender_binary(gender):\n",
    "    if gender == 'Male':\n",
    "        return 1\n",
    "    else:\n",
    "        return 0\n",
    "    \n",
    "train_df['Gender'] = train_df['Gender'].apply(lambda x: gender_binary(x))\n",
    "test_df['Gender'] = test_df['Gender'].apply(lambda x: gender_binary(x))"
   ]
  },
  {
   "cell_type": "code",
   "execution_count": 5,
   "id": "6892a544",
   "metadata": {},
   "outputs": [],
   "source": [
    "def damage_binary(veh_dmg):\n",
    "    if veh_dmg == 'Yes':\n",
    "        return 1\n",
    "    else:\n",
    "        return 0\n",
    "    \n",
    "train_df['Vehicle_Damage'] = train_df['Vehicle_Damage'].apply(lambda x: damage_binary(x))\n",
    "test_df['Vehicle_Damage'] = test_df['Vehicle_Damage'].apply(lambda x: damage_binary(x))"
   ]
  },
  {
   "cell_type": "markdown",
   "id": "0c83d993",
   "metadata": {},
   "source": [
    "Since Response rate seemed to increase with vehicle age, we will encode the categories accordingly:"
   ]
  },
  {
   "cell_type": "code",
   "execution_count": 6,
   "id": "d792eb07",
   "metadata": {},
   "outputs": [],
   "source": [
    "train_df['Vehicle_Age'] = train_df['Vehicle_Age'].map({'1-2 Year' : 0, '> 2 Years' : 1, '< 1 Year' : 2})\n",
    "test_df['Vehicle_Age'] = test_df['Vehicle_Age'].map({'1-2 Year' : 0, '> 2 Years' : 1, '< 1 Year' : 2})"
   ]
  },
  {
   "cell_type": "markdown",
   "id": "00c2b8e7",
   "metadata": {},
   "source": [
    "##### Splitting data into train and validation set + using SMOTE to balance target variable:"
   ]
  },
  {
   "cell_type": "code",
   "execution_count": 7,
   "id": "b8699115",
   "metadata": {},
   "outputs": [],
   "source": [
    "X_train = train_df.drop('Response', axis=1)\n",
    "y_train = train_df['Response']\n",
    "\n",
    "X_test = test_df.drop('id', axis=1)"
   ]
  },
  {
   "cell_type": "code",
   "execution_count": 8,
   "id": "be3f562b",
   "metadata": {},
   "outputs": [
    {
     "name": "stdout",
     "output_type": "stream",
     "text": [
      "Response\n",
      "0    201873\n",
      "1     28223\n",
      "Name: count, dtype: int64\n",
      "\n",
      "Response\n",
      "0    201873\n",
      "1    201873\n",
      "Name: count, dtype: int64\n"
     ]
    }
   ],
   "source": [
    "from imblearn.over_sampling import SMOTE\n",
    "smote = SMOTE()\n",
    "X_train_smote, y_train_smote = smote.fit_resample(X_train, y_train)\n",
    "\n",
    "print(y_train.value_counts())\n",
    "print()\n",
    "print(y_train_smote.value_counts())"
   ]
  },
  {
   "cell_type": "markdown",
   "id": "92ed1fe1",
   "metadata": {},
   "source": [
    "#### Predictions using Tensorflow Decision Forests:"
   ]
  },
  {
   "cell_type": "code",
   "execution_count": 33,
   "id": "6afb13d1",
   "metadata": {},
   "outputs": [
    {
     "name": "stderr",
     "output_type": "stream",
     "text": [
      "2024-08-13 10:43:23.215512: I tensorflow/core/platform/cpu_feature_guard.cc:210] This TensorFlow binary is optimized to use available CPU instructions in performance-critical operations.\n",
      "To enable the following instructions: AVX2 FMA, in other operations, rebuild TensorFlow with the appropriate compiler flags.\n"
     ]
    }
   ],
   "source": [
    "import tensorflow_decision_forests as tfdf"
   ]
  },
  {
   "cell_type": "code",
   "execution_count": 9,
   "id": "27680cdf",
   "metadata": {},
   "outputs": [],
   "source": [
    "from sklearn.model_selection import train_test_split\n",
    "X_train, X_val, y_train, y_val = train_test_split(X_train_smote, y_train_smote, test_size=0.30)"
   ]
  },
  {
   "cell_type": "code",
   "execution_count": 35,
   "id": "0cea8051",
   "metadata": {},
   "outputs": [],
   "source": [
    "train_pd_smote_df = pd.concat([X_train_smote, y_train_smote], axis=1)\n",
    "validation_pd_df = pd.concat([X_val, y_val], axis = 1)"
   ]
  },
  {
   "cell_type": "code",
   "execution_count": 36,
   "id": "cc4fd2af",
   "metadata": {},
   "outputs": [
    {
     "data": {
      "text/plain": [
       "[tensorflow_decision_forests.keras.RandomForestModel,\n",
       " tensorflow_decision_forests.keras.GradientBoostedTreesModel,\n",
       " tensorflow_decision_forests.keras.CartModel,\n",
       " tensorflow_decision_forests.keras.DistributedGradientBoostedTreesModel]"
      ]
     },
     "execution_count": 36,
     "metadata": {},
     "output_type": "execute_result"
    }
   ],
   "source": [
    "tfdf.keras.get_all_models()"
   ]
  },
  {
   "cell_type": "code",
   "execution_count": 37,
   "id": "b862aa4a",
   "metadata": {},
   "outputs": [],
   "source": [
    "label = 'Response'\n",
    "tf_train_dataset = tfdf.keras.pd_dataframe_to_tf_dataset(train_pd_smote_df, label = label, task = tfdf.keras.Task.CLASSIFICATION)\n",
    "tf_val_dataset = tfdf.keras.pd_dataframe_to_tf_dataset(validation_pd_df, label = label, task=tfdf.keras.Task.CLASSIFICATION)\n"
   ]
  },
  {
   "cell_type": "code",
   "execution_count": 38,
   "id": "a07da8b2",
   "metadata": {},
   "outputs": [
    {
     "name": "stdout",
     "output_type": "stream",
     "text": [
      "Use /var/folders/18/_q0z_1k55hb814fgjk4yb8pc0000gn/T/tmp84564c9r as temporary training directory\n"
     ]
    }
   ],
   "source": [
    "#Let's use a Random Forest Model:\n",
    "tf_rand_forest = tfdf.keras.RandomForestModel()\n",
    "tf_rand_forest.compile()"
   ]
  },
  {
   "cell_type": "code",
   "execution_count": 39,
   "id": "f09da06f",
   "metadata": {},
   "outputs": [
    {
     "name": "stdout",
     "output_type": "stream",
     "text": [
      "Reading training dataset...\n",
      "Training dataset read in 0:00:08.410137. Found 403186 examples.\n",
      "Reading validation dataset...\n",
      "Num validation examples: tf.Tensor(120956, shape=(), dtype=int32)\n",
      "Validation dataset read in 0:00:01.377697. Found 120956 examples.\n",
      "Training model...\n"
     ]
    },
    {
     "name": "stderr",
     "output_type": "stream",
     "text": [
      "[INFO 24-08-13 10:46:41.4121 EDT kernel.cc:1233] Loading model from path /var/folders/18/_q0z_1k55hb814fgjk4yb8pc0000gn/T/tmp84564c9r/model/ with prefix b42b0041d0c448e0\n",
      "[INFO 24-08-13 10:46:45.4057 EDT decision_forest.cc:734] Model loaded with 300 root(s), 1425530 node(s), and 10 input feature(s).\n",
      "[INFO 24-08-13 10:46:45.4058 EDT abstract_model.cc:1344] Engine \"RandomForestOptPred\" built\n",
      "[INFO 24-08-13 10:46:45.4058 EDT kernel.cc:1061] Use fast generic engine\n"
     ]
    },
    {
     "name": "stdout",
     "output_type": "stream",
     "text": [
      "Model trained in 0:03:05.493760\n",
      "Compiling model...\n",
      "Model compiled.\n"
     ]
    },
    {
     "data": {
      "text/plain": [
       "<tf_keras.src.callbacks.History at 0x7f8cdf5c8940>"
      ]
     },
     "execution_count": 39,
     "metadata": {},
     "output_type": "execute_result"
    }
   ],
   "source": [
    "tf_rand_forest.fit(x = tf_train_dataset, validation_data=[tf_val_dataset])"
   ]
  },
  {
   "cell_type": "code",
   "execution_count": 10,
   "id": "da277b7c",
   "metadata": {},
   "outputs": [],
   "source": [
    "from sklearn.metrics import classification_report, confusion_matrix, roc_auc_score"
   ]
  },
  {
   "cell_type": "code",
   "execution_count": 40,
   "id": "c3911e7a",
   "metadata": {},
   "outputs": [
    {
     "name": "stdout",
     "output_type": "stream",
     "text": [
      "121/121 [==============================] - 9s 71ms/step\n",
      "0.929529970398403\n"
     ]
    }
   ],
   "source": [
    "tf_rf_preds = tf_rand_forest.predict(tf_val_dataset)\n",
    "print(roc_auc_score(y_val, tf_rf_preds))"
   ]
  },
  {
   "cell_type": "code",
   "execution_count": 46,
   "id": "b2cb0ccf",
   "metadata": {},
   "outputs": [],
   "source": [
    "#making predictions binary to look at classification report and confusion matrix:\n",
    "tf_rf_binary_preds = []\n",
    "def pred_binary(pred):\n",
    "    if pred >= 0.5:\n",
    "        return 1\n",
    "    else:\n",
    "        return 0\n",
    "    \n",
    "for pred in tf_rf_preds:\n",
    "    class_ = pred_binary(pred)\n",
    "    tf_rf_binary_preds.append(class_)"
   ]
  },
  {
   "cell_type": "code",
   "execution_count": 47,
   "id": "8cbb7ca6",
   "metadata": {},
   "outputs": [
    {
     "data": {
      "text/plain": [
       "<Axes: >"
      ]
     },
     "execution_count": 47,
     "metadata": {},
     "output_type": "execute_result"
    },
    {
     "data": {
      "image/png": "[encoded data removed]",
      "text/plain": [
       "<Figure size 640x480 with 2 Axes>"
      ]
     },
     "metadata": {},
     "output_type": "display_data"
    }
   ],
   "source": [
    "cm = confusion_matrix(y_val, tf_rf_binary_preds)\n",
    "sns.heatmap(data = cm, annot=True, fmt='g', cmap = 'coolwarm')"
   ]
  },
  {
   "cell_type": "code",
   "execution_count": 48,
   "id": "0f056842",
   "metadata": {},
   "outputs": [
    {
     "name": "stdout",
     "output_type": "stream",
     "text": [
      "              precision    recall  f1-score   support\n",
      "\n",
      "           0       0.91      0.81      0.86     60537\n",
      "           1       0.83      0.92      0.87     60632\n",
      "\n",
      "    accuracy                           0.87    121169\n",
      "   macro avg       0.87      0.87      0.86    121169\n",
      "weighted avg       0.87      0.87      0.86    121169\n",
      "\n"
     ]
    }
   ],
   "source": [
    "print(classification_report(y_val, tf_rf_binary_preds))"
   ]
  },
  {
   "cell_type": "markdown",
   "id": "95782cb8",
   "metadata": {},
   "source": [
    " Decent accuracy of 0.87, though within the context of this problem that isn't saying much as 88% of the observations in the dataset belonged to one class (0). Out of all positive predictions our model made, 83% were correct\n",
    " \n",
    "Our model also has quite a good recall for our target variable, as out of everyone who responded, the model correctly classified 92% of them.\n",
    "\n",
    "This model will be used to make submissions to the Kaggle competition. Though tuning could maybe be done to squeeze a bit more performance out of the model, none will be done in this project due to long training times.\n",
    "\n",
    "Also worth noting: Better performance could almost certainly be achieved by using more of the data to train the model (I used 2% of the train dataset), however less data was used to decrease training time, trading off performance"
   ]
  },
  {
   "cell_type": "markdown",
   "id": "49f46816",
   "metadata": {},
   "source": [
    "## SKL Logistic Regression"
   ]
  },
  {
   "cell_type": "code",
   "execution_count": 16,
   "id": "1acc5ab2",
   "metadata": {},
   "outputs": [],
   "source": [
    "#Scaling Data for Logistic Regression:\n",
    "from sklearn.preprocessing import StandardScaler"
   ]
  },
  {
   "cell_type": "code",
   "execution_count": 17,
   "id": "d02c5829",
   "metadata": {},
   "outputs": [],
   "source": [
    "scaler = StandardScaler()\n",
    "\n",
    "X_train_smote_scaled = scaler.fit_transform(X_train_smote)"
   ]
  },
  {
   "cell_type": "code",
   "execution_count": 18,
   "id": "43edcfed",
   "metadata": {},
   "outputs": [
    {
     "data": {
      "text/plain": [
       "(403746, 11)"
      ]
     },
     "execution_count": 18,
     "metadata": {},
     "output_type": "execute_result"
    }
   ],
   "source": [
    "X_train_smote_scaled.shape"
   ]
  },
  {
   "cell_type": "code",
   "execution_count": 19,
   "id": "05b0e9ec",
   "metadata": {},
   "outputs": [],
   "source": [
    "X_train_lr, X_val_lr, y_train_lr, y_val_lr = train_test_split(X_train_smote_scaled, y_train_smote, test_size=0.30)"
   ]
  },
  {
   "cell_type": "code",
   "execution_count": 20,
   "id": "238f24e2",
   "metadata": {},
   "outputs": [],
   "source": [
    "from sklearn.linear_model import LogisticRegression"
   ]
  },
  {
   "cell_type": "code",
   "execution_count": 21,
   "id": "df65ee3e",
   "metadata": {},
   "outputs": [
    {
     "data": {
      "text/html": [
       "<style>#sk-container-id-1 {color: black;background-color: white;}#sk-container-id-1 pre{padding: 0;}#sk-container-id-1 div.sk-toggleable {background-color: white;}#sk-container-id-1 label.sk-toggleable__label {cursor: pointer;display: block;width: 100%;margin-bottom: 0;padding: 0.3em;box-sizing: border-box;text-align: center;}#sk-container-id-1 label.sk-toggleable__label-arrow:before {content: \"▸\";float: left;margin-right: 0.25em;color: #696969;}#sk-container-id-1 label.sk-toggleable__label-arrow:hover:before {color: black;}#sk-container-id-1 div.sk-estimator:hover label.sk-toggleable__label-arrow:before {color: black;}#sk-container-id-1 div.sk-toggleable__content {max-height: 0;max-width: 0;overflow: hidden;text-align: left;background-color: #f0f8ff;}#sk-container-id-1 div.sk-toggleable__content pre {margin: 0.2em;color: black;border-radius: 0.25em;background-color: #f0f8ff;}#sk-container-id-1 input.sk-toggleable__control:checked~div.sk-toggleable__content {max-height: 200px;max-width: 100%;overflow: auto;}#sk-container-id-1 input.sk-toggleable__control:checked~label.sk-toggleable__label-arrow:before {content: \"▾\";}#sk-container-id-1 div.sk-estimator input.sk-toggleable__control:checked~label.sk-toggleable__label {background-color: #d4ebff;}#sk-container-id-1 div.sk-label input.sk-toggleable__control:checked~label.sk-toggleable__label {background-color: #d4ebff;}#sk-container-id-1 input.sk-hidden--visually {border: 0;clip: rect(1px 1px 1px 1px);clip: rect(1px, 1px, 1px, 1px);height: 1px;margin: -1px;overflow: hidden;padding: 0;position: absolute;width: 1px;}#sk-container-id-1 div.sk-estimator {font-family: monospace;background-color: #f0f8ff;border: 1px dotted black;border-radius: 0.25em;box-sizing: border-box;margin-bottom: 0.5em;}#sk-container-id-1 div.sk-estimator:hover {background-color: #d4ebff;}#sk-container-id-1 div.sk-parallel-item::after {content: \"\";width: 100%;border-bottom: 1px solid gray;flex-grow: 1;}#sk-container-id-1 div.sk-label:hover label.sk-toggleable__label {background-color: #d4ebff;}#sk-container-id-1 div.sk-serial::before {content: \"\";position: absolute;border-left: 1px solid gray;box-sizing: border-box;top: 0;bottom: 0;left: 50%;z-index: 0;}#sk-container-id-1 div.sk-serial {display: flex;flex-direction: column;align-items: center;background-color: white;padding-right: 0.2em;padding-left: 0.2em;position: relative;}#sk-container-id-1 div.sk-item {position: relative;z-index: 1;}#sk-container-id-1 div.sk-parallel {display: flex;align-items: stretch;justify-content: center;background-color: white;position: relative;}#sk-container-id-1 div.sk-item::before, #sk-container-id-1 div.sk-parallel-item::before {content: \"\";position: absolute;border-left: 1px solid gray;box-sizing: border-box;top: 0;bottom: 0;left: 50%;z-index: -1;}#sk-container-id-1 div.sk-parallel-item {display: flex;flex-direction: column;z-index: 1;position: relative;background-color: white;}#sk-container-id-1 div.sk-parallel-item:first-child::after {align-self: flex-end;width: 50%;}#sk-container-id-1 div.sk-parallel-item:last-child::after {align-self: flex-start;width: 50%;}#sk-container-id-1 div.sk-parallel-item:only-child::after {width: 0;}#sk-container-id-1 div.sk-dashed-wrapped {border: 1px dashed gray;margin: 0 0.4em 0.5em 0.4em;box-sizing: border-box;padding-bottom: 0.4em;background-color: white;}#sk-container-id-1 div.sk-label label {font-family: monospace;font-weight: bold;display: inline-block;line-height: 1.2em;}#sk-container-id-1 div.sk-label-container {text-align: center;}#sk-container-id-1 div.sk-container {/* jupyter's `normalize.less` sets `[hidden] { display: none; }` but bootstrap.min.css set `[hidden] { display: none !important; }` so we also need the `!important` here to be able to override the default hidden behavior on the sphinx rendered scikit-learn.org. See: https://github.com/scikit-learn/scikit-learn/issues/21755 */display: inline-block !important;position: relative;}#sk-container-id-1 div.sk-text-repr-fallback {display: none;}</style><div id=\"sk-container-id-1\" class=\"sk-top-container\"><div class=\"sk-text-repr-fallback\"><pre>LogisticRegression()</pre><b>In a Jupyter environment, please rerun this cell to show the HTML representation or trust the notebook. <br />On GitHub, the HTML representation is unable to render, please try loading this page with nbviewer.org.</b></div><div class=\"sk-container\" hidden><div class=\"sk-item\"><div class=\"sk-estimator sk-toggleable\"><input class=\"sk-toggleable__control sk-hidden--visually\" id=\"sk-estimator-id-1\" type=\"checkbox\" checked><label for=\"sk-estimator-id-1\" class=\"sk-toggleable__label sk-toggleable__label-arrow\">LogisticRegression</label><div class=\"sk-toggleable__content\"><pre>LogisticRegression()</pre></div></div></div></div></div>"
      ],
      "text/plain": [
       "LogisticRegression()"
      ]
     },
     "execution_count": 21,
     "metadata": {},
     "output_type": "execute_result"
    }
   ],
   "source": [
    "log_reg = LogisticRegression()\n",
    "log_reg.fit(X_train_lr, y_train_lr)"
   ]
  },
  {
   "cell_type": "code",
   "execution_count": 21,
   "id": "55cf20c9",
   "metadata": {},
   "outputs": [
    {
     "data": {
      "text/plain": [
       "array([[9.99815107e-01, 1.84893217e-04],\n",
       "       [6.73087378e-01, 3.26912622e-01],\n",
       "       [9.98949617e-01, 1.05038297e-03],\n",
       "       ...,\n",
       "       [1.67203747e-01, 8.32796253e-01],\n",
       "       [1.56331833e-01, 8.43668167e-01],\n",
       "       [6.25483871e-01, 3.74516129e-01]])"
      ]
     },
     "execution_count": 21,
     "metadata": {},
     "output_type": "execute_result"
    }
   ],
   "source": [
    "validation_preds = log_reg.predict_proba(X_val_lr)\n",
    "#validation_prob_preds = log_reg.predict_proba(X_val)\n",
    "validation_preds"
   ]
  },
  {
   "cell_type": "code",
   "execution_count": 22,
   "id": "5444a4cd",
   "metadata": {},
   "outputs": [],
   "source": [
    "logreg_preds = []\n",
    "def pred_binary(pred):\n",
    "    if pred >= 0.5:\n",
    "        return 1\n",
    "    else:\n",
    "        return 0\n",
    "\n",
    "for prediction in validation_preds[:,1]:\n",
    "    bin_pred = pred_binary(prediction)\n",
    "    logreg_preds.append(bin_pred)\n",
    "\n",
    "\n",
    "        "
   ]
  },
  {
   "cell_type": "code",
   "execution_count": 25,
   "id": "5cc7fb68",
   "metadata": {},
   "outputs": [
    {
     "name": "stdout",
     "output_type": "stream",
     "text": [
      "[[23743 36945]\n",
      " [23328 37153]]\n"
     ]
    }
   ],
   "source": [
    "print(confusion_matrix(y_val, logreg_preds))"
   ]
  },
  {
   "cell_type": "code",
   "execution_count": 26,
   "id": "64f47c1b",
   "metadata": {},
   "outputs": [
    {
     "name": "stdout",
     "output_type": "stream",
     "text": [
      "0.5027613240095932\n"
     ]
    }
   ],
   "source": [
    "print(roc_auc_score(y_val, logreg_preds))"
   ]
  },
  {
   "cell_type": "code",
   "execution_count": 11,
   "id": "c0483cb8",
   "metadata": {},
   "outputs": [],
   "source": [
    "#Optimizing hyper parameters:\n",
    "from sklearn.model_selection import GridSearchCV, RandomizedSearchCV"
   ]
  },
  {
   "cell_type": "code",
   "execution_count": 28,
   "id": "e4f60f97",
   "metadata": {},
   "outputs": [
    {
     "name": "stdout",
     "output_type": "stream",
     "text": [
      "Fitting 5 folds for each of 10 candidates, totalling 50 fits\n"
     ]
    },
    {
     "data": {
      "text/html": [
       "<style>#sk-container-id-2 {color: black;background-color: white;}#sk-container-id-2 pre{padding: 0;}#sk-container-id-2 div.sk-toggleable {background-color: white;}#sk-container-id-2 label.sk-toggleable__label {cursor: pointer;display: block;width: 100%;margin-bottom: 0;padding: 0.3em;box-sizing: border-box;text-align: center;}#sk-container-id-2 label.sk-toggleable__label-arrow:before {content: \"▸\";float: left;margin-right: 0.25em;color: #696969;}#sk-container-id-2 label.sk-toggleable__label-arrow:hover:before {color: black;}#sk-container-id-2 div.sk-estimator:hover label.sk-toggleable__label-arrow:before {color: black;}#sk-container-id-2 div.sk-toggleable__content {max-height: 0;max-width: 0;overflow: hidden;text-align: left;background-color: #f0f8ff;}#sk-container-id-2 div.sk-toggleable__content pre {margin: 0.2em;color: black;border-radius: 0.25em;background-color: #f0f8ff;}#sk-container-id-2 input.sk-toggleable__control:checked~div.sk-toggleable__content {max-height: 200px;max-width: 100%;overflow: auto;}#sk-container-id-2 input.sk-toggleable__control:checked~label.sk-toggleable__label-arrow:before {content: \"▾\";}#sk-container-id-2 div.sk-estimator input.sk-toggleable__control:checked~label.sk-toggleable__label {background-color: #d4ebff;}#sk-container-id-2 div.sk-label input.sk-toggleable__control:checked~label.sk-toggleable__label {background-color: #d4ebff;}#sk-container-id-2 input.sk-hidden--visually {border: 0;clip: rect(1px 1px 1px 1px);clip: rect(1px, 1px, 1px, 1px);height: 1px;margin: -1px;overflow: hidden;padding: 0;position: absolute;width: 1px;}#sk-container-id-2 div.sk-estimator {font-family: monospace;background-color: #f0f8ff;border: 1px dotted black;border-radius: 0.25em;box-sizing: border-box;margin-bottom: 0.5em;}#sk-container-id-2 div.sk-estimator:hover {background-color: #d4ebff;}#sk-container-id-2 div.sk-parallel-item::after {content: \"\";width: 100%;border-bottom: 1px solid gray;flex-grow: 1;}#sk-container-id-2 div.sk-label:hover label.sk-toggleable__label {background-color: #d4ebff;}#sk-container-id-2 div.sk-serial::before {content: \"\";position: absolute;border-left: 1px solid gray;box-sizing: border-box;top: 0;bottom: 0;left: 50%;z-index: 0;}#sk-container-id-2 div.sk-serial {display: flex;flex-direction: column;align-items: center;background-color: white;padding-right: 0.2em;padding-left: 0.2em;position: relative;}#sk-container-id-2 div.sk-item {position: relative;z-index: 1;}#sk-container-id-2 div.sk-parallel {display: flex;align-items: stretch;justify-content: center;background-color: white;position: relative;}#sk-container-id-2 div.sk-item::before, #sk-container-id-2 div.sk-parallel-item::before {content: \"\";position: absolute;border-left: 1px solid gray;box-sizing: border-box;top: 0;bottom: 0;left: 50%;z-index: -1;}#sk-container-id-2 div.sk-parallel-item {display: flex;flex-direction: column;z-index: 1;position: relative;background-color: white;}#sk-container-id-2 div.sk-parallel-item:first-child::after {align-self: flex-end;width: 50%;}#sk-container-id-2 div.sk-parallel-item:last-child::after {align-self: flex-start;width: 50%;}#sk-container-id-2 div.sk-parallel-item:only-child::after {width: 0;}#sk-container-id-2 div.sk-dashed-wrapped {border: 1px dashed gray;margin: 0 0.4em 0.5em 0.4em;box-sizing: border-box;padding-bottom: 0.4em;background-color: white;}#sk-container-id-2 div.sk-label label {font-family: monospace;font-weight: bold;display: inline-block;line-height: 1.2em;}#sk-container-id-2 div.sk-label-container {text-align: center;}#sk-container-id-2 div.sk-container {/* jupyter's `normalize.less` sets `[hidden] { display: none; }` but bootstrap.min.css set `[hidden] { display: none !important; }` so we also need the `!important` here to be able to override the default hidden behavior on the sphinx rendered scikit-learn.org. See: https://github.com/scikit-learn/scikit-learn/issues/21755 */display: inline-block !important;position: relative;}#sk-container-id-2 div.sk-text-repr-fallback {display: none;}</style><div id=\"sk-container-id-2\" class=\"sk-top-container\"><div class=\"sk-text-repr-fallback\"><pre>GridSearchCV(estimator=LogisticRegression(),\n",
       "             param_grid={&#x27;C&#x27;: [0.1, 1, 10, 100, 1000], &#x27;penalty&#x27;: [&#x27;l1&#x27;, &#x27;l2&#x27;],\n",
       "                         &#x27;solver&#x27;: [&#x27;liblinear&#x27;]},\n",
       "             verbose=1)</pre><b>In a Jupyter environment, please rerun this cell to show the HTML representation or trust the notebook. <br />On GitHub, the HTML representation is unable to render, please try loading this page with nbviewer.org.</b></div><div class=\"sk-container\" hidden><div class=\"sk-item sk-dashed-wrapped\"><div class=\"sk-label-container\"><div class=\"sk-label sk-toggleable\"><input class=\"sk-toggleable__control sk-hidden--visually\" id=\"sk-estimator-id-2\" type=\"checkbox\" ><label for=\"sk-estimator-id-2\" class=\"sk-toggleable__label sk-toggleable__label-arrow\">GridSearchCV</label><div class=\"sk-toggleable__content\"><pre>GridSearchCV(estimator=LogisticRegression(),\n",
       "             param_grid={&#x27;C&#x27;: [0.1, 1, 10, 100, 1000], &#x27;penalty&#x27;: [&#x27;l1&#x27;, &#x27;l2&#x27;],\n",
       "                         &#x27;solver&#x27;: [&#x27;liblinear&#x27;]},\n",
       "             verbose=1)</pre></div></div></div><div class=\"sk-parallel\"><div class=\"sk-parallel-item\"><div class=\"sk-item\"><div class=\"sk-label-container\"><div class=\"sk-label sk-toggleable\"><input class=\"sk-toggleable__control sk-hidden--visually\" id=\"sk-estimator-id-3\" type=\"checkbox\" ><label for=\"sk-estimator-id-3\" class=\"sk-toggleable__label sk-toggleable__label-arrow\">estimator: LogisticRegression</label><div class=\"sk-toggleable__content\"><pre>LogisticRegression()</pre></div></div></div><div class=\"sk-serial\"><div class=\"sk-item\"><div class=\"sk-estimator sk-toggleable\"><input class=\"sk-toggleable__control sk-hidden--visually\" id=\"sk-estimator-id-4\" type=\"checkbox\" ><label for=\"sk-estimator-id-4\" class=\"sk-toggleable__label sk-toggleable__label-arrow\">LogisticRegression</label><div class=\"sk-toggleable__content\"><pre>LogisticRegression()</pre></div></div></div></div></div></div></div></div></div></div>"
      ],
      "text/plain": [
       "GridSearchCV(estimator=LogisticRegression(),\n",
       "             param_grid={'C': [0.1, 1, 10, 100, 1000], 'penalty': ['l1', 'l2'],\n",
       "                         'solver': ['liblinear']},\n",
       "             verbose=1)"
      ]
     },
     "execution_count": 28,
     "metadata": {},
     "output_type": "execute_result"
    }
   ],
   "source": [
    "param_grid = {'C': [0.1, 1, 10, 100, 1000], 'penalty': ['l1', 'l2'], \n",
    "              'solver':['liblinear']}\n",
    "\n",
    "logreg_gridsearch = GridSearchCV(estimator= log_reg, param_grid=param_grid, verbose=1)\n",
    "logreg_gridsearch.fit(X_train_lr, y_train_lr)"
   ]
  },
  {
   "cell_type": "code",
   "execution_count": 32,
   "id": "6a90e0d2",
   "metadata": {},
   "outputs": [
    {
     "data": {
      "text/plain": [
       "{'C': 0.1, 'penalty': 'l2', 'solver': 'liblinear'}"
      ]
     },
     "execution_count": 32,
     "metadata": {},
     "output_type": "execute_result"
    }
   ],
   "source": [
    "logreg_gridsearch.best_params_"
   ]
  },
  {
   "cell_type": "code",
   "execution_count": 22,
   "id": "a6de052d",
   "metadata": {},
   "outputs": [
    {
     "name": "stdout",
     "output_type": "stream",
     "text": [
      "[[43858 16828]\n",
      " [ 5363 55075]]\n"
     ]
    }
   ],
   "source": [
    "#Redefining model and retrainming using best parameters:\n",
    "tuned_log_reg = LogisticRegression(penalty='l2', C = 0.1, solver= 'liblinear')\n",
    "log_reg.fit(X_train_lr, y_train_lr)\n",
    "\n",
    "tuned_val_preds = log_reg.predict_proba(X_val_lr)\n",
    "\n",
    "tuned_logreg_preds = []\n",
    "def pred_binary(pred):\n",
    "    if pred >= 0.5:\n",
    "        return 1\n",
    "    else:\n",
    "        return 0\n",
    "\n",
    "for prediction in tuned_val_preds[:,1]:\n",
    "    bin_pred = pred_binary(prediction)\n",
    "    tuned_logreg_preds.append(bin_pred)\n",
    "\n",
    "print(confusion_matrix(y_val_lr, tuned_logreg_preds))"
   ]
  },
  {
   "cell_type": "code",
   "execution_count": 23,
   "id": "9d22798e",
   "metadata": {},
   "outputs": [
    {
     "name": "stdout",
     "output_type": "stream",
     "text": [
      "0.8169840950153073\n"
     ]
    }
   ],
   "source": [
    "print(roc_auc_score(y_val_lr, tuned_logreg_preds))"
   ]
  },
  {
   "cell_type": "code",
   "execution_count": 24,
   "id": "cf738741",
   "metadata": {},
   "outputs": [
    {
     "name": "stdout",
     "output_type": "stream",
     "text": [
      "              precision    recall  f1-score   support\n",
      "\n",
      "           0       0.89      0.72      0.80     60686\n",
      "           1       0.77      0.91      0.83     60438\n",
      "\n",
      "    accuracy                           0.82    121124\n",
      "   macro avg       0.83      0.82      0.82    121124\n",
      "weighted avg       0.83      0.82      0.82    121124\n",
      "\n",
      "None\n"
     ]
    }
   ],
   "source": [
    "print(print(classification_report(y_val_lr, tuned_logreg_preds)))"
   ]
  },
  {
   "cell_type": "markdown",
   "id": "b70e8472",
   "metadata": {},
   "source": [
    "Pretty good improvement but still not as good as tensorflow decision forests. Could try running a grid search using other solvers. Also, as stated, the best way would be to just take a bigger sample from the original dataset"
   ]
  },
  {
   "cell_type": "markdown",
   "id": "708cf93a",
   "metadata": {},
   "source": [
    "## SKL Random Forest"
   ]
  },
  {
   "cell_type": "code",
   "execution_count": 13,
   "id": "da12e11e",
   "metadata": {},
   "outputs": [],
   "source": [
    "from sklearn.ensemble import RandomForestClassifier"
   ]
  },
  {
   "cell_type": "code",
   "execution_count": 14,
   "id": "02979933",
   "metadata": {},
   "outputs": [],
   "source": [
    "rand_forest = RandomForestClassifier()"
   ]
  },
  {
   "cell_type": "code",
   "execution_count": 15,
   "id": "bc202302",
   "metadata": {},
   "outputs": [],
   "source": [
    "X_train, X_val, y_train, y_val = train_test_split(X_train_smote, y_train_smote, test_size=0.30)"
   ]
  },
  {
   "cell_type": "code",
   "execution_count": 16,
   "id": "2028cc65",
   "metadata": {},
   "outputs": [],
   "source": [
    "rand_forest.fit(X_train, y_train)\n",
    "rf_val_preds = rand_forest.predict(X_val)"
   ]
  },
  {
   "cell_type": "code",
   "execution_count": 17,
   "id": "ea9e29c1",
   "metadata": {},
   "outputs": [
    {
     "name": "stdout",
     "output_type": "stream",
     "text": [
      "[[51791  8760]\n",
      " [ 5057 55471]]\n"
     ]
    }
   ],
   "source": [
    "print(confusion_matrix(y_val, rf_val_preds))"
   ]
  },
  {
   "cell_type": "code",
   "execution_count": 18,
   "id": "d9826b0a",
   "metadata": {},
   "outputs": [
    {
     "name": "stdout",
     "output_type": "stream",
     "text": [
      "              precision    recall  f1-score   support\n",
      "\n",
      "           0       0.91      0.86      0.88     60551\n",
      "           1       0.86      0.92      0.89     60528\n",
      "\n",
      "    accuracy                           0.89    121079\n",
      "   macro avg       0.89      0.89      0.89    121079\n",
      "weighted avg       0.89      0.89      0.89    121079\n",
      "\n"
     ]
    }
   ],
   "source": [
    "print(classification_report(y_val, rf_val_preds))"
   ]
  },
  {
   "cell_type": "code",
   "execution_count": 19,
   "id": "dae23435",
   "metadata": {},
   "outputs": [
    {
     "name": "stdout",
     "output_type": "stream",
     "text": [
      "0.8858902280182885\n"
     ]
    }
   ],
   "source": [
    "print(roc_auc_score(y_val, rf_val_preds))"
   ]
  },
  {
   "cell_type": "code",
   "execution_count": 20,
   "id": "b2116350",
   "metadata": {},
   "outputs": [
    {
     "name": "stdout",
     "output_type": "stream",
     "text": [
      "Fitting 5 folds for each of 10 candidates, totalling 50 fits\n"
     ]
    },
    {
     "name": "stderr",
     "output_type": "stream",
     "text": [
      "/Users/julesbellosguardo/anaconda3/envs/TF/lib/python3.9/site-packages/sklearn/ensemble/_forest.py:424: FutureWarning: `max_features='auto'` has been deprecated in 1.1 and will be removed in 1.3. To keep the past behaviour, explicitly set `max_features='sqrt'` or remove this parameter as it is also the default value for RandomForestClassifiers and ExtraTreesClassifiers.\n",
      "  warn(\n",
      "/Users/julesbellosguardo/anaconda3/envs/TF/lib/python3.9/site-packages/sklearn/ensemble/_forest.py:424: FutureWarning: `max_features='auto'` has been deprecated in 1.1 and will be removed in 1.3. To keep the past behaviour, explicitly set `max_features='sqrt'` or remove this parameter as it is also the default value for RandomForestClassifiers and ExtraTreesClassifiers.\n",
      "  warn(\n",
      "/Users/julesbellosguardo/anaconda3/envs/TF/lib/python3.9/site-packages/sklearn/ensemble/_forest.py:424: FutureWarning: `max_features='auto'` has been deprecated in 1.1 and will be removed in 1.3. To keep the past behaviour, explicitly set `max_features='sqrt'` or remove this parameter as it is also the default value for RandomForestClassifiers and ExtraTreesClassifiers.\n",
      "  warn(\n",
      "/Users/julesbellosguardo/anaconda3/envs/TF/lib/python3.9/site-packages/sklearn/ensemble/_forest.py:424: FutureWarning: `max_features='auto'` has been deprecated in 1.1 and will be removed in 1.3. To keep the past behaviour, explicitly set `max_features='sqrt'` or remove this parameter as it is also the default value for RandomForestClassifiers and ExtraTreesClassifiers.\n",
      "  warn(\n",
      "/Users/julesbellosguardo/anaconda3/envs/TF/lib/python3.9/site-packages/sklearn/ensemble/_forest.py:424: FutureWarning: `max_features='auto'` has been deprecated in 1.1 and will be removed in 1.3. To keep the past behaviour, explicitly set `max_features='sqrt'` or remove this parameter as it is also the default value for RandomForestClassifiers and ExtraTreesClassifiers.\n",
      "  warn(\n",
      "/Users/julesbellosguardo/anaconda3/envs/TF/lib/python3.9/site-packages/sklearn/ensemble/_forest.py:424: FutureWarning: `max_features='auto'` has been deprecated in 1.1 and will be removed in 1.3. To keep the past behaviour, explicitly set `max_features='sqrt'` or remove this parameter as it is also the default value for RandomForestClassifiers and ExtraTreesClassifiers.\n",
      "  warn(\n",
      "/Users/julesbellosguardo/anaconda3/envs/TF/lib/python3.9/site-packages/sklearn/ensemble/_forest.py:424: FutureWarning: `max_features='auto'` has been deprecated in 1.1 and will be removed in 1.3. To keep the past behaviour, explicitly set `max_features='sqrt'` or remove this parameter as it is also the default value for RandomForestClassifiers and ExtraTreesClassifiers.\n",
      "  warn(\n",
      "/Users/julesbellosguardo/anaconda3/envs/TF/lib/python3.9/site-packages/sklearn/ensemble/_forest.py:424: FutureWarning: `max_features='auto'` has been deprecated in 1.1 and will be removed in 1.3. To keep the past behaviour, explicitly set `max_features='sqrt'` or remove this parameter as it is also the default value for RandomForestClassifiers and ExtraTreesClassifiers.\n",
      "  warn(\n",
      "/Users/julesbellosguardo/anaconda3/envs/TF/lib/python3.9/site-packages/sklearn/ensemble/_forest.py:424: FutureWarning: `max_features='auto'` has been deprecated in 1.1 and will be removed in 1.3. To keep the past behaviour, explicitly set `max_features='sqrt'` or remove this parameter as it is also the default value for RandomForestClassifiers and ExtraTreesClassifiers.\n",
      "  warn(\n",
      "/Users/julesbellosguardo/anaconda3/envs/TF/lib/python3.9/site-packages/sklearn/ensemble/_forest.py:424: FutureWarning: `max_features='auto'` has been deprecated in 1.1 and will be removed in 1.3. To keep the past behaviour, explicitly set `max_features='sqrt'` or remove this parameter as it is also the default value for RandomForestClassifiers and ExtraTreesClassifiers.\n",
      "  warn(\n",
      "/Users/julesbellosguardo/anaconda3/envs/TF/lib/python3.9/site-packages/sklearn/ensemble/_forest.py:424: FutureWarning: `max_features='auto'` has been deprecated in 1.1 and will be removed in 1.3. To keep the past behaviour, explicitly set `max_features='sqrt'` or remove this parameter as it is also the default value for RandomForestClassifiers and ExtraTreesClassifiers.\n",
      "  warn(\n",
      "/Users/julesbellosguardo/anaconda3/envs/TF/lib/python3.9/site-packages/sklearn/ensemble/_forest.py:424: FutureWarning: `max_features='auto'` has been deprecated in 1.1 and will be removed in 1.3. To keep the past behaviour, explicitly set `max_features='sqrt'` or remove this parameter as it is also the default value for RandomForestClassifiers and ExtraTreesClassifiers.\n",
      "  warn(\n",
      "/Users/julesbellosguardo/anaconda3/envs/TF/lib/python3.9/site-packages/sklearn/ensemble/_forest.py:424: FutureWarning: `max_features='auto'` has been deprecated in 1.1 and will be removed in 1.3. To keep the past behaviour, explicitly set `max_features='sqrt'` or remove this parameter as it is also the default value for RandomForestClassifiers and ExtraTreesClassifiers.\n",
      "  warn(\n",
      "/Users/julesbellosguardo/anaconda3/envs/TF/lib/python3.9/site-packages/sklearn/ensemble/_forest.py:424: FutureWarning: `max_features='auto'` has been deprecated in 1.1 and will be removed in 1.3. To keep the past behaviour, explicitly set `max_features='sqrt'` or remove this parameter as it is also the default value for RandomForestClassifiers and ExtraTreesClassifiers.\n",
      "  warn(\n",
      "/Users/julesbellosguardo/anaconda3/envs/TF/lib/python3.9/site-packages/sklearn/ensemble/_forest.py:424: FutureWarning: `max_features='auto'` has been deprecated in 1.1 and will be removed in 1.3. To keep the past behaviour, explicitly set `max_features='sqrt'` or remove this parameter as it is also the default value for RandomForestClassifiers and ExtraTreesClassifiers.\n",
      "  warn(\n",
      "/Users/julesbellosguardo/anaconda3/envs/TF/lib/python3.9/site-packages/sklearn/ensemble/_forest.py:424: FutureWarning: `max_features='auto'` has been deprecated in 1.1 and will be removed in 1.3. To keep the past behaviour, explicitly set `max_features='sqrt'` or remove this parameter as it is also the default value for RandomForestClassifiers and ExtraTreesClassifiers.\n",
      "  warn(\n",
      "/Users/julesbellosguardo/anaconda3/envs/TF/lib/python3.9/site-packages/sklearn/ensemble/_forest.py:424: FutureWarning: `max_features='auto'` has been deprecated in 1.1 and will be removed in 1.3. To keep the past behaviour, explicitly set `max_features='sqrt'` or remove this parameter as it is also the default value for RandomForestClassifiers and ExtraTreesClassifiers.\n",
      "  warn(\n",
      "/Users/julesbellosguardo/anaconda3/envs/TF/lib/python3.9/site-packages/sklearn/ensemble/_forest.py:424: FutureWarning: `max_features='auto'` has been deprecated in 1.1 and will be removed in 1.3. To keep the past behaviour, explicitly set `max_features='sqrt'` or remove this parameter as it is also the default value for RandomForestClassifiers and ExtraTreesClassifiers.\n",
      "  warn(\n",
      "/Users/julesbellosguardo/anaconda3/envs/TF/lib/python3.9/site-packages/sklearn/ensemble/_forest.py:424: FutureWarning: `max_features='auto'` has been deprecated in 1.1 and will be removed in 1.3. To keep the past behaviour, explicitly set `max_features='sqrt'` or remove this parameter as it is also the default value for RandomForestClassifiers and ExtraTreesClassifiers.\n",
      "  warn(\n",
      "/Users/julesbellosguardo/anaconda3/envs/TF/lib/python3.9/site-packages/sklearn/ensemble/_forest.py:424: FutureWarning: `max_features='auto'` has been deprecated in 1.1 and will be removed in 1.3. To keep the past behaviour, explicitly set `max_features='sqrt'` or remove this parameter as it is also the default value for RandomForestClassifiers and ExtraTreesClassifiers.\n",
      "  warn(\n"
     ]
    },
    {
     "name": "stdout",
     "output_type": "stream",
     "text": [
      "[CV] END bootstrap=False, max_depth=20, max_features=auto, min_samples_leaf=7, min_samples_split=2, n_estimators=50; total time=  50.3s\n",
      "[CV] END bootstrap=True, max_depth=50, max_features=auto, min_samples_leaf=1, min_samples_split=10, n_estimators=50; total time=  48.9s\n",
      "[CV] END bootstrap=False, max_depth=10, max_features=sqrt, min_samples_leaf=7, min_samples_split=4, n_estimators=500; total time= 5.5min\n",
      "[CV] END bootstrap=True, max_depth=20, max_features=sqrt, min_samples_leaf=2, min_samples_split=4, n_estimators=300; total time= 6.7min\n",
      "[CV] END bootstrap=True, max_depth=20, max_features=sqrt, min_samples_leaf=2, min_samples_split=4, n_estimators=300; total time=84.2min\n",
      "[CV] END bootstrap=True, max_depth=None, max_features=sqrt, min_samples_leaf=5, min_samples_split=2, n_estimators=750; total time=56.9min\n",
      "[CV] END bootstrap=False, max_depth=50, max_features=auto, min_samples_leaf=1, min_samples_split=4, n_estimators=100; total time=22.0min\n",
      "[CV] END bootstrap=False, max_depth=50, max_features=auto, min_samples_leaf=1, min_samples_split=4, n_estimators=100; total time= 6.7min\n",
      "[CV] END bootstrap=False, max_depth=70, max_features=sqrt, min_samples_leaf=7, min_samples_split=10, n_estimators=150; total time= 9.0min\n",
      "[CV] END bootstrap=True, max_depth=70, max_features=sqrt, min_samples_leaf=5, min_samples_split=4, n_estimators=1000; total time=100.2min\n",
      "[CV] END bootstrap=True, max_depth=50, max_features=sqrt, min_samples_leaf=2, min_samples_split=4, n_estimators=200; total time=10.1min\n",
      "[CV] END bootstrap=True, max_depth=50, max_features=sqrt, min_samples_leaf=2, min_samples_split=4, n_estimators=200; total time=10.2min\n",
      "[CV] END bootstrap=True, max_depth=110, max_features=auto, min_samples_leaf=5, min_samples_split=10, n_estimators=100; total time=20.9min\n",
      "[CV] END bootstrap=False, max_depth=20, max_features=auto, min_samples_leaf=7, min_samples_split=2, n_estimators=50; total time=  49.1s\n",
      "[CV] END bootstrap=False, max_depth=20, max_features=auto, min_samples_leaf=7, min_samples_split=2, n_estimators=50; total time=  53.9s\n",
      "[CV] END bootstrap=False, max_depth=10, max_features=sqrt, min_samples_leaf=7, min_samples_split=4, n_estimators=500; total time= 5.4min\n",
      "[CV] END bootstrap=False, max_depth=10, max_features=sqrt, min_samples_leaf=7, min_samples_split=4, n_estimators=500; total time=59.6min\n",
      "[CV] END bootstrap=True, max_depth=None, max_features=sqrt, min_samples_leaf=5, min_samples_split=2, n_estimators=750; total time=80.3min\n",
      "[CV] END bootstrap=False, max_depth=50, max_features=auto, min_samples_leaf=1, min_samples_split=4, n_estimators=100; total time= 8.1min\n",
      "[CV] END bootstrap=False, max_depth=50, max_features=auto, min_samples_leaf=1, min_samples_split=4, n_estimators=100; total time=22.0min\n",
      "[CV] END bootstrap=False, max_depth=70, max_features=sqrt, min_samples_leaf=7, min_samples_split=10, n_estimators=150; total time= 8.7min\n",
      "[CV] END bootstrap=False, max_depth=70, max_features=sqrt, min_samples_leaf=7, min_samples_split=10, n_estimators=150; total time= 9.1min\n",
      "[CV] END bootstrap=True, max_depth=70, max_features=sqrt, min_samples_leaf=5, min_samples_split=4, n_estimators=1000; total time=99.8min\n",
      "[CV] END bootstrap=True, max_depth=50, max_features=sqrt, min_samples_leaf=2, min_samples_split=4, n_estimators=200; total time=10.2min\n",
      "[CV] END bootstrap=True, max_depth=50, max_features=sqrt, min_samples_leaf=2, min_samples_split=4, n_estimators=200; total time=26.4min\n",
      "[CV] END bootstrap=True, max_depth=110, max_features=auto, min_samples_leaf=5, min_samples_split=10, n_estimators=100; total time= 4.1min\n",
      "[CV] END bootstrap=False, max_depth=20, max_features=auto, min_samples_leaf=7, min_samples_split=2, n_estimators=50; total time=  49.4s\n",
      "[CV] END bootstrap=True, max_depth=50, max_features=auto, min_samples_leaf=1, min_samples_split=10, n_estimators=50; total time=  47.8s\n",
      "[CV] END bootstrap=True, max_depth=50, max_features=auto, min_samples_leaf=1, min_samples_split=10, n_estimators=50; total time=  49.1s\n",
      "[CV] END bootstrap=False, max_depth=10, max_features=sqrt, min_samples_leaf=7, min_samples_split=4, n_estimators=500; total time= 5.3min\n",
      "[CV] END bootstrap=True, max_depth=20, max_features=sqrt, min_samples_leaf=2, min_samples_split=4, n_estimators=300; total time=28.7min\n",
      "[CV] END bootstrap=True, max_depth=20, max_features=sqrt, min_samples_leaf=2, min_samples_split=4, n_estimators=300; total time=64.1min\n",
      "[CV] END bootstrap=True, max_depth=None, max_features=sqrt, min_samples_leaf=5, min_samples_split=2, n_estimators=750; total time=56.2min\n",
      "[CV] END bootstrap=False, max_depth=50, max_features=auto, min_samples_leaf=1, min_samples_split=4, n_estimators=100; total time=22.0min\n",
      "[CV] END bootstrap=False, max_depth=70, max_features=sqrt, min_samples_leaf=7, min_samples_split=10, n_estimators=150; total time= 8.6min\n",
      "[CV] END bootstrap=False, max_depth=70, max_features=sqrt, min_samples_leaf=7, min_samples_split=10, n_estimators=150; total time=24.7min\n",
      "[CV] END bootstrap=True, max_depth=70, max_features=sqrt, min_samples_leaf=5, min_samples_split=4, n_estimators=1000; total time=84.4min\n",
      "[CV] END bootstrap=True, max_depth=50, max_features=sqrt, min_samples_leaf=2, min_samples_split=4, n_estimators=200; total time=10.1min\n",
      "[CV] END bootstrap=True, max_depth=110, max_features=auto, min_samples_leaf=5, min_samples_split=10, n_estimators=100; total time= 4.6min\n",
      "[CV] END bootstrap=True, max_depth=110, max_features=auto, min_samples_leaf=5, min_samples_split=10, n_estimators=100; total time=21.3min\n",
      "[CV] END bootstrap=True, max_depth=110, max_features=auto, min_samples_leaf=5, min_samples_split=10, n_estimators=100; total time= 3.5min\n"
     ]
    },
    {
     "name": "stderr",
     "output_type": "stream",
     "text": [
      "/Users/julesbellosguardo/anaconda3/envs/TF/lib/python3.9/site-packages/sklearn/ensemble/_forest.py:424: FutureWarning: `max_features='auto'` has been deprecated in 1.1 and will be removed in 1.3. To keep the past behaviour, explicitly set `max_features='sqrt'` or remove this parameter as it is also the default value for RandomForestClassifiers and ExtraTreesClassifiers.\n",
      "  warn(\n"
     ]
    },
    {
     "data": {
      "text/plain": [
       "{'n_estimators': 100,\n",
       " 'min_samples_split': 4,\n",
       " 'min_samples_leaf': 1,\n",
       " 'max_features': 'auto',\n",
       " 'max_depth': 50,\n",
       " 'bootstrap': False}"
      ]
     },
     "execution_count": 20,
     "metadata": {},
     "output_type": "execute_result"
    }
   ],
   "source": [
    "tuned_rand_forest = RandomForestClassifier()\n",
    "rf_paramgrid = {'n_estimators': [25,50,100,150,200,250,300,500, 750, 1000], \n",
    "               'max_features': ['auto', 'sqrt'], 'max_depth': [None, 10, 20, 30, 50, 70, 90, 110],\n",
    "               'min_samples_split': [2, 4, 5, 10], 'min_samples_leaf': [1, 2, 4, 5, 7], 'bootstrap': [True, False]}\n",
    "\n",
    "rf_randsearch = RandomizedSearchCV(estimator = tuned_rand_forest, param_distributions=rf_paramgrid, n_iter = 10, cv=5,\n",
    "                            verbose=2, n_jobs = -1)\n",
    "\n",
    "rf_randsearch.fit(X_train, y_train)\n",
    "\n",
    "rf_randsearch.best_params_"
   ]
  },
  {
   "cell_type": "code",
   "execution_count": 21,
   "id": "552ed103",
   "metadata": {},
   "outputs": [
    {
     "name": "stdout",
     "output_type": "stream",
     "text": [
      "              precision    recall  f1-score   support\n",
      "\n",
      "           0       0.91      0.86      0.89     60551\n",
      "           1       0.87      0.91      0.89     60528\n",
      "\n",
      "    accuracy                           0.89    121079\n",
      "   macro avg       0.89      0.89      0.89    121079\n",
      "weighted avg       0.89      0.89      0.89    121079\n",
      "\n"
     ]
    }
   ],
   "source": [
    "tuned_forest_preds = rf_randsearch.predict(X_val)\n",
    "print(classification_report(y_val, tuned_forest_preds))"
   ]
  },
  {
   "cell_type": "code",
   "execution_count": 22,
   "id": "6a59b1d1",
   "metadata": {},
   "outputs": [
    {
     "name": "stdout",
     "output_type": "stream",
     "text": [
      "0.8879951756030584\n"
     ]
    }
   ],
   "source": [
    "print(roc_auc_score(y_val, tuned_forest_preds))"
   ]
  },
  {
   "cell_type": "markdown",
   "id": "dc7af1ee",
   "metadata": {},
   "source": [
    "Compared to the Tensor flow Decision Forest, this model has better accuracy concerning the target variable, recall on target variablle is a tiny bit worse, but its F1 Score is better. Which model to use would depend on the context of what is trying to be achieved with the model, but here it is simply to get a high ROC score, so we will use TFDF"
   ]
  }
 ],
 "metadata": {
  "kernelspec": {
   "display_name": "Python 3 (ipykernel)",
   "language": "python",
   "name": "python3"
  },
  "language_info": {
   "codemirror_mode": {
    "name": "ipython",
    "version": 3
   },
   "file_extension": ".py",
   "mimetype": "text/x-python",
   "name": "python",
   "nbconvert_exporter": "python",
   "pygments_lexer": "ipython3",
   "version": "3.9.19"
  }
 },
 "nbformat": 4,
 "nbformat_minor": 5
}
